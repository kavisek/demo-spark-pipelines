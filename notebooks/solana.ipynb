{
 "cells": [
  {
   "cell_type": "code",
   "execution_count": null,
   "id": "01932a57-c8a0-414e-9048-f343c0fb08ce",
   "metadata": {},
   "outputs": [],
   "source": [
    "from pyspark.sql.functions import max, min, sum, mean, when\n",
    "\n",
    "# Run the date count jobs tasks\n",
    "from jobs.solana import SparkJob\n",
    "\n",
    "job = SparkJob()\n",
    "df = job.solona_to_rdd()\n",
    "\n",
    "# df = df.select(\"volume\",\n",
    "#                \"open\",\n",
    "#                when((df.volume > 5000) | (df.volume < 1000) , 1).otherwise(0).alias(\"case1\"),\n",
    "#                when((df.volume > 2500) & (df.open == 3) , 1).otherwise(0).alias(\"case2\")\n",
    "#               )\n",
    "                \n",
    "# df.show(40)\n",
    "\n",
    "# dataDF.withColumn(\"new_column\",\n",
    "#        when((col(\"code\") == \"a\") | (col(\"code\") == \"d\"), \"A\")\n",
    "#       .when((col(\"code\") == \"b\") & (col(\"amt\") == \"4\"), \"B\")\n",
    "#       .otherwise(\"A1\")).show()\n"
   ]
  },
  {
   "cell_type": "code",
   "execution_count": 4,
   "id": "3b0b5097-9ef6-44b9-a20a-d8484fbfd11e",
   "metadata": {},
   "outputs": [
    {
     "data": {
      "text/plain": [
       "pyspark.rdd.RDD"
      ]
     },
     "execution_count": 4,
     "metadata": {},
     "output_type": "execute_result"
    }
   ],
   "source": [
    "type(df)"
   ]
  },
  {
   "cell_type": "code",
   "execution_count": 18,
   "id": "54187c67-d892-4f2b-a5cc-2a1c6e31956f",
   "metadata": {},
   "outputs": [],
   "source": [
    "from pandas.core.frame import DataFrame as PandasDataframe"
   ]
  },
  {
   "cell_type": "code",
   "execution_count": 17,
   "id": "e61a7810-163a-413d-bbfe-d19347bc16a2",
   "metadata": {},
   "outputs": [],
   "source": [
    "from pyspark.sql.dataframe import DataFrame as SparkDataFrame"
   ]
  },
  {
   "cell_type": "code",
   "execution_count": null,
   "id": "b31fe362-0bf6-42fc-99e6-47ba8f34beeb",
   "metadata": {},
   "outputs": [],
   "source": []
  }
 ],
 "metadata": {
  "kernelspec": {
   "display_name": "Python 3 (ipykernel)",
   "language": "python",
   "name": "python3"
  },
  "language_info": {
   "codemirror_mode": {
    "name": "ipython",
    "version": 3
   },
   "file_extension": ".py",
   "mimetype": "text/x-python",
   "name": "python",
   "nbconvert_exporter": "python",
   "pygments_lexer": "ipython3",
   "version": "3.9.10"
  }
 },
 "nbformat": 4,
 "nbformat_minor": 5
}
