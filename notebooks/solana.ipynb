{
 "cells": [
  {
   "cell_type": "code",
   "execution_count": 1,
   "id": "27f33f18-3961-4b4e-b9e6-c5f3c8446cad",
   "metadata": {
    "tags": []
   },
   "outputs": [],
   "source": [
    "# Run the date count jobs tasks\n",
    "from jobs.solana import SparkJob"
   ]
  },
  {
   "cell_type": "code",
   "execution_count": 2,
   "id": "01932a57-c8a0-414e-9048-f343c0fb08ce",
   "metadata": {},
   "outputs": [
    {
     "name": "stdout",
     "output_type": "stream",
     "text": [
      "preprocessing completed.\n",
      "d1: counts: 5952\n",
      "d2: counts: 5371\n",
      "d3: counts: 5946\n",
      "d1: counts: 5952\n",
      "d2: counts: 5371\n",
      "d3: counts: 5946\n",
      "d123: counts: 17269\n",
      "+----+----+---+-----+\n",
      "|open|high|low|close|\n",
      "+----+----+---+-----+\n",
      "|   1|   1|  1|    1|\n",
      "|   1|   1|  1|    1|\n",
      "|   1|   1|  1|    1|\n",
      "|   1|   1|  1|    1|\n",
      "|   1|   1|  1|    1|\n",
      "|   1|   1|  1|    1|\n",
      "|   1|   1|  1|    1|\n",
      "|   1|   1|  1|    1|\n",
      "|   1|   1|  1|    1|\n",
      "|   1|   1|  1|    1|\n",
      "+----+----+---+-----+\n",
      "only showing top 10 rows\n",
      "\n"
     ]
    }
   ],
   "source": [
    "job = SparkJob()\n",
    "job.solona_union_dataframes()"
   ]
  },
  {
   "cell_type": "code",
   "execution_count": null,
   "id": "996e60ac-b592-42b7-a26e-2aa4c1aae04a",
   "metadata": {},
   "outputs": [],
   "source": []
  }
 ],
 "metadata": {
  "kernelspec": {
   "display_name": "Python 3 (ipykernel)",
   "language": "python",
   "name": "python3"
  },
  "language_info": {
   "codemirror_mode": {
    "name": "ipython",
    "version": 3
   },
   "file_extension": ".py",
   "mimetype": "text/x-python",
   "name": "python",
   "nbconvert_exporter": "python",
   "pygments_lexer": "ipython3",
   "version": "3.9.10"
  }
 },
 "nbformat": 4,
 "nbformat_minor": 5
}
