{
 "cells": [
  {
   "cell_type": "code",
   "execution_count": 1,
   "id": "01932a57-c8a0-414e-9048-f343c0fb08ce",
   "metadata": {},
   "outputs": [
    {
     "name": "stdout",
     "output_type": "stream",
     "text": [
      "preprocessing completed.\n",
      "59095\n",
      "59095\n",
      "+-----+----------+\n",
      "|month|sum(count)|\n",
      "+-----+----------+\n",
      "|    3|      5946|\n",
      "|    5|      2976|\n",
      "|   10|      5952|\n",
      "|    4|      4651|\n",
      "|    7|      2976|\n",
      "|    8|      4950|\n",
      "|   11|      5756|\n",
      "|    1|      5952|\n",
      "|    9|      5752|\n",
      "|    6|      2880|\n",
      "|    2|      5371|\n",
      "|   12|      5933|\n",
      "+-----+----------+\n",
      "\n"
     ]
    }
   ],
   "source": [
    "# %%timeit\n",
    "from pyspark.sql import SparkSession\n",
    "from pyspark.sql.functions import lit, col, round\n",
    "from pyspark.sql.functions import year, month, dayofmonth\n",
    "from pyspark.sql.functions import max, min, sum, mean, when, udf\n",
    "from pyspark.sql.types import IntegerType, DoubleType\n",
    "from pyspark.rdd import RDD\n",
    "from pyspark.sql.dataframe import DataFrame as DataFrame\n",
    "from pandas.core.frame import DataFrame as PandasDataframe\n",
    "\n",
    "# Run the date count jobs tasks\n",
    "from jobs.solana import SparkJob\n",
    "\n",
    "job = SparkJob()\n",
    "job.solana_groupby_count_single_salted()"
   ]
  },
  {
   "cell_type": "code",
   "execution_count": 2,
   "id": "7998e0c8-7877-4f3d-a921-b1c546f20f1b",
   "metadata": {},
   "outputs": [
    {
     "name": "stdout",
     "output_type": "stream",
     "text": [
      "preprocessing completed.\n",
      "+-----+-----+\n",
      "|month|count|\n",
      "+-----+-----+\n",
      "|    3| 5946|\n",
      "|    5| 2976|\n",
      "|   10| 5952|\n",
      "|    4| 4651|\n",
      "|    8| 4950|\n",
      "|   11| 5756|\n",
      "|    1| 5952|\n",
      "|    9| 5752|\n",
      "|   12| 5933|\n",
      "|    2| 5371|\n",
      "|    6| 2880|\n",
      "|    7| 2976|\n",
      "+-----+-----+\n",
      "\n"
     ]
    }
   ],
   "source": [
    "job = SparkJob()\n",
    "job.solana_groupby_count_single()"
   ]
  },
  {
   "cell_type": "code",
   "execution_count": 3,
   "id": "191015ed-8af6-4e45-b8ee-ad870bb80352",
   "metadata": {},
   "outputs": [
    {
     "name": "stdout",
     "output_type": "stream",
     "text": [
      "preprocessing completed.\n"
     ]
    },
    {
     "data": {
      "text/plain": [
       "59095"
      ]
     },
     "execution_count": 3,
     "metadata": {},
     "output_type": "execute_result"
    }
   ],
   "source": [
    "job.preprocessing_timeseries().count()"
   ]
  },
  {
   "cell_type": "code",
   "execution_count": 4,
   "id": "058ef353-60ec-4ffa-b3e5-48fb32f68624",
   "metadata": {},
   "outputs": [
    {
     "ename": "AttributeError",
     "evalue": "'SparkJob' object has no attribute 'solana_groupby__single_salted'",
     "output_type": "error",
     "traceback": [
      "\u001b[0;31m---------------------------------------------------------------------------\u001b[0m",
      "\u001b[0;31mAttributeError\u001b[0m                            Traceback (most recent call last)",
      "Input \u001b[0;32mIn [4]\u001b[0m, in \u001b[0;36m<cell line: 1>\u001b[0;34m()\u001b[0m\n\u001b[0;32m----> 1\u001b[0m \u001b[43mjob\u001b[49m\u001b[38;5;241;43m.\u001b[39;49m\u001b[43msolana_groupby__single_salted\u001b[49m()\n",
      "\u001b[0;31mAttributeError\u001b[0m: 'SparkJob' object has no attribute 'solana_groupby__single_salted'"
     ]
    }
   ],
   "source": [
    "job.solana_groupby__single_salted()"
   ]
  },
  {
   "cell_type": "code",
   "execution_count": 17,
   "id": "de39edf7-9347-4a3a-82a1-51eeb480f2bb",
   "metadata": {},
   "outputs": [
    {
     "name": "stdout",
     "output_type": "stream",
     "text": [
      "Column<'((rand(1402140963608574907) * 200) - 1)'>\n"
     ]
    }
   ],
   "source": [
    "salval = rand() * int(job.shuffle_partitions()) - 1\n",
    "print(sal_col)"
   ]
  },
  {
   "cell_type": "code",
   "execution_count": 20,
   "id": "94ff7a8e-42b7-4e22-89fd-7a5a13d89ab7",
   "metadata": {},
   "outputs": [
    {
     "name": "stdout",
     "output_type": "stream",
     "text": [
      "+--------------------+----+-----+----+\n",
      "|           open_time|open|close|salt|\n",
      "+--------------------+----+-----+----+\n",
      "|2020-08-11 06:00:...|   2|    3|  19|\n",
      "|2020-08-11 06:15:...|   3|    3| 156|\n",
      "|2020-08-11 06:30:...|   3|    2| 133|\n",
      "|2020-08-11 06:45:...|   3|    2|  57|\n",
      "|2020-08-11 07:00:...|   2|    3| 142|\n",
      "|2020-08-11 07:15:...|   3|    3| 142|\n",
      "|2020-08-11 07:30:...|   3|    2| 133|\n",
      "|2020-08-11 07:45:...|   2|    2|  80|\n",
      "|2020-08-11 08:00:...|   2|    2|  78|\n",
      "|2020-08-11 08:15:...|   2|    2|  25|\n",
      "+--------------------+----+-----+----+\n",
      "only showing top 10 rows\n",
      "\n"
     ]
    }
   ],
   "source": [
    "df.withColumn(\"salt\", lit(salval).cast(IntegerType())).show(10)"
   ]
  },
  {
   "cell_type": "code",
   "execution_count": null,
   "id": "2b937c77-1e4f-4854-b936-d9791fdeb836",
   "metadata": {},
   "outputs": [],
   "source": []
  }
 ],
 "metadata": {
  "kernelspec": {
   "display_name": "Python 3 (ipykernel)",
   "language": "python",
   "name": "python3"
  },
  "language_info": {
   "codemirror_mode": {
    "name": "ipython",
    "version": 3
   },
   "file_extension": ".py",
   "mimetype": "text/x-python",
   "name": "python",
   "nbconvert_exporter": "python",
   "pygments_lexer": "ipython3",
   "version": "3.9.10"
  }
 },
 "nbformat": 4,
 "nbformat_minor": 5
}
