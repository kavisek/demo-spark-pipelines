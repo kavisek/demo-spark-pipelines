{
 "cells": [
  {
   "cell_type": "code",
   "execution_count": 1,
   "id": "01932a57-c8a0-414e-9048-f343c0fb08ce",
   "metadata": {},
   "outputs": [
    {
     "name": "stdout",
     "output_type": "stream",
     "text": [
      "+--------+-----------+\n",
      "|language|users_count|\n",
      "+--------+-----------+\n",
      "|    Java|      20000|\n",
      "|  Python|     100000|\n",
      "|   Scala|       3000|\n",
      "+--------+-----------+\n",
      "\n"
     ]
    }
   ],
   "source": [
    "# %%timeit\n",
    "from pyspark.sql import SparkSession\n",
    "from pyspark.sql.functions import lit, col, round\n",
    "from pyspark.sql.functions import year, month, dayofmonth\n",
    "from pyspark.sql.functions import max, min, sum, mean, when, udf\n",
    "from pyspark.sql.types import IntegerType, DoubleType\n",
    "from pyspark.rdd import RDD\n",
    "from pyspark.sql.dataframe import DataFrame as DataFrame\n",
    "from pandas.core.frame import DataFrame as PandasDataframe\n",
    "\n",
    "# Run the date count jobs tasks\n",
    "from jobs.solana import SparkJob\n",
    "\n",
    "job = SparkJob()\n",
    "df = job.create_dataframe()\n",
    "df.show(10)"
   ]
  },
  {
   "cell_type": "code",
   "execution_count": null,
   "id": "2b937c77-1e4f-4854-b936-d9791fdeb836",
   "metadata": {},
   "outputs": [],
   "source": []
  }
 ],
 "metadata": {
  "kernelspec": {
   "display_name": "Python 3 (ipykernel)",
   "language": "python",
   "name": "python3"
  },
  "language_info": {
   "codemirror_mode": {
    "name": "ipython",
    "version": 3
   },
   "file_extension": ".py",
   "mimetype": "text/x-python",
   "name": "python",
   "nbconvert_exporter": "python",
   "pygments_lexer": "ipython3",
   "version": "3.9.10"
  }
 },
 "nbformat": 4,
 "nbformat_minor": 5
}
