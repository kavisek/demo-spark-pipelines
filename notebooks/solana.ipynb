{
 "cells": [
  {
   "cell_type": "code",
   "execution_count": 1,
   "id": "01932a57-c8a0-414e-9048-f343c0fb08ce",
   "metadata": {},
   "outputs": [
    {
     "name": "stdout",
     "output_type": "stream",
     "text": [
      "preprocessing completed.\n",
      "+----+--------+\n",
      "|open|neg_open|\n",
      "+----+--------+\n",
      "|   2|      -2|\n",
      "|   3|      -3|\n",
      "|   3|      -3|\n",
      "|   3|      -3|\n",
      "|   2|      -2|\n",
      "|   3|      -3|\n",
      "|   3|      -3|\n",
      "|   2|      -2|\n",
      "|   2|      -2|\n",
      "|   2|      -2|\n",
      "+----+--------+\n",
      "only showing top 10 rows\n",
      "\n"
     ]
    }
   ],
   "source": [
    "from pyspark.sql.functions import max, min, sum, mean, when\n",
    "\n",
    "# Run the date count jobs tasks\n",
    "from jobs.solana import SparkJob\n",
    "\n",
    "job = SparkJob()\n",
    "df = job.solana_sql_udf()\n"
   ]
  }
 ],
 "metadata": {
  "kernelspec": {
   "display_name": "Python 3 (ipykernel)",
   "language": "python",
   "name": "python3"
  },
  "language_info": {
   "codemirror_mode": {
    "name": "ipython",
    "version": 3
   },
   "file_extension": ".py",
   "mimetype": "text/x-python",
   "name": "python",
   "nbconvert_exporter": "python",
   "pygments_lexer": "ipython3",
   "version": "3.9.10"
  }
 },
 "nbformat": 4,
 "nbformat_minor": 5
}
