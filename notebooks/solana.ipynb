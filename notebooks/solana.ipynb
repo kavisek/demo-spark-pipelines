{
 "cells": [
  {
   "cell_type": "code",
   "execution_count": 1,
   "id": "01932a57-c8a0-414e-9048-f343c0fb08ce",
   "metadata": {},
   "outputs": [
    {
     "name": "stdout",
     "output_type": "stream",
     "text": [
      "attempting realias\n",
      "preprocessing completed.\n",
      "preprocessing completed.\n",
      "count: 59095\n",
      "count: 59095\n",
      "count: 59095\n",
      "+--------------------+----+-----+-----+\n",
      "|           open_time|open|close|close|\n",
      "+--------------------+----+-----+-----+\n",
      "|2020-08-11 06:00:...|   2|    3|    3|\n",
      "|2020-08-11 06:15:...|   3|    3|    3|\n",
      "|2020-08-11 06:30:...|   3|    2|    2|\n",
      "|2020-08-11 06:45:...|   3|    2|    2|\n",
      "|2020-08-11 07:00:...|   2|    3|    3|\n",
      "|2020-08-11 07:15:...|   3|    3|    3|\n",
      "|2020-08-11 07:30:...|   3|    2|    2|\n",
      "|2020-08-11 07:45:...|   2|    2|    2|\n",
      "|2020-08-11 08:00:...|   2|    2|    2|\n",
      "|2020-08-11 08:15:...|   2|    2|    2|\n",
      "+--------------------+----+-----+-----+\n",
      "only showing top 10 rows\n",
      "\n",
      "+--------------------+----+-----+\n",
      "|           open_time|open|close|\n",
      "+--------------------+----+-----+\n",
      "|2020-08-11 06:00:...|   2|    3|\n",
      "|2020-08-11 06:15:...|   3|    3|\n",
      "|2020-08-11 06:30:...|   3|    2|\n",
      "|2020-08-11 06:45:...|   3|    2|\n",
      "|2020-08-11 07:00:...|   2|    3|\n",
      "|2020-08-11 07:15:...|   3|    3|\n",
      "|2020-08-11 07:30:...|   3|    2|\n",
      "|2020-08-11 07:45:...|   2|    2|\n",
      "|2020-08-11 08:00:...|   2|    2|\n",
      "|2020-08-11 08:15:...|   2|    2|\n",
      "+--------------------+----+-----+\n",
      "only showing top 10 rows\n",
      "\n",
      "count: 59095\n",
      "count: 59095\n"
     ]
    }
   ],
   "source": [
    "from pyspark.sql.functions import max, min, sum, mean, when\n",
    "\n",
    "# Run the date count jobs tasks\n",
    "from jobs.solana import SparkJob\n",
    "\n",
    "job = SparkJob()\n",
    "dfc = job.solana_realias_join()\n",
    "\n",
    "\n",
    "# df = df.select(\"volume\",\n",
    "#                \"open\",\n",
    "#                when((df.volume > 5000) | (df.volume < 1000) , 1).otherwise(0).alias(\"case1\"),\n",
    "#                when((df.volume > 2500) & (df.open == 3) , 1).otherwise(0).alias(\"case2\")\n",
    "#               )\n",
    " \n",
    "# df.select('open_time').show(10)\n",
    "# df.select('a.open_time').show(10)\n",
    "\n",
    "# dataDF.withColumn(\"new_column\",\n",
    "#        when((col(\"code\") == \"a\") | (col(\"code\") == \"d\"), \"A\")\n",
    "#       .when((col(\"code\") == \"b\") & (col(\"amt\") == \"4\"), \"B\")\n",
    "#       .otherwise(\"A1\")).show()\n"
   ]
  },
  {
   "cell_type": "code",
   "execution_count": 3,
   "id": "3b0b5097-9ef6-44b9-a20a-d8484fbfd11e",
   "metadata": {},
   "outputs": [
    {
     "name": "stdout",
     "output_type": "stream",
     "text": [
      "+--------------------+----+-----+\n",
      "|           open_time|open|close|\n",
      "+--------------------+----+-----+\n",
      "|2020-08-11 06:00:...|   2|    3|\n",
      "|2020-08-11 06:15:...|   3|    3|\n",
      "|2020-08-11 06:30:...|   3|    2|\n",
      "|2020-08-11 06:45:...|   3|    2|\n",
      "|2020-08-11 07:00:...|   2|    3|\n",
      "|2020-08-11 07:15:...|   3|    3|\n",
      "|2020-08-11 07:30:...|   3|    2|\n",
      "|2020-08-11 07:45:...|   2|    2|\n",
      "|2020-08-11 08:00:...|   2|    2|\n",
      "|2020-08-11 08:15:...|   2|    2|\n",
      "+--------------------+----+-----+\n",
      "only showing top 10 rows\n",
      "\n"
     ]
    }
   ],
   "source": []
  },
  {
   "cell_type": "code",
   "execution_count": 4,
   "id": "42ad04d5-b2c7-4a40-a724-ad6d62efa811",
   "metadata": {},
   "outputs": [
    {
     "ename": "AttributeError",
     "evalue": "'NoneType' object has no attribute 'show'",
     "output_type": "error",
     "traceback": [
      "\u001b[0;31m---------------------------------------------------------------------------\u001b[0m",
      "\u001b[0;31mAttributeError\u001b[0m                            Traceback (most recent call last)",
      "Input \u001b[0;32mIn [4]\u001b[0m, in \u001b[0;36m<cell line: 1>\u001b[0;34m()\u001b[0m\n\u001b[0;32m----> 1\u001b[0m \u001b[43mdfc\u001b[49m\u001b[38;5;241;43m.\u001b[39;49m\u001b[43mshow\u001b[49m(\u001b[38;5;241m10\u001b[39m)\n",
      "\u001b[0;31mAttributeError\u001b[0m: 'NoneType' object has no attribute 'show'"
     ]
    }
   ],
   "source": [
    "dfc.show(10)"
   ]
  },
  {
   "cell_type": "code",
   "execution_count": null,
   "id": "a9627a3b-a6fd-401e-8e05-1e5a5a1b66e4",
   "metadata": {},
   "outputs": [],
   "source": []
  }
 ],
 "metadata": {
  "kernelspec": {
   "display_name": "Python 3 (ipykernel)",
   "language": "python",
   "name": "python3"
  },
  "language_info": {
   "codemirror_mode": {
    "name": "ipython",
    "version": 3
   },
   "file_extension": ".py",
   "mimetype": "text/x-python",
   "name": "python",
   "nbconvert_exporter": "python",
   "pygments_lexer": "ipython3",
   "version": "3.9.10"
  }
 },
 "nbformat": 4,
 "nbformat_minor": 5
}
