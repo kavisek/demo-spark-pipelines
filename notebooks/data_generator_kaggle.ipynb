{
 "cells": [
  {
   "cell_type": "code",
   "execution_count": 1,
   "id": "6da9708d-381f-4257-ba73-6760e8453311",
   "metadata": {},
   "outputs": [
    {
     "name": "stdout",
     "output_type": "stream",
     "text": [
      "Warning: Your Kaggle API key is readable by other users on this system! To fix this, you can run 'chmod 600 /home/jovyan/.kaggle/kaggle.json'\n"
     ]
    }
   ],
   "source": [
    "import kaggle"
   ]
  },
  {
   "cell_type": "code",
   "execution_count": 6,
   "id": "fce74260-ffd3-42b8-a7c0-95810c68a5f9",
   "metadata": {},
   "outputs": [],
   "source": [
    "# You can get the url of the dataset from kaggle.com \n",
    "# (i.e strip nicklitwinow/gdp-by-country from https://www.kaggle.com/datasets/nicklitwinow/gdp-by-country\n",
    "kaggle.api.dataset_download_files('nicklitwinow/gdp-by-country', path='../datasets/nicklitwinow/gdp-by-country/', unzip=True)\n",
    "kaggle.api.dataset_download_files('psycon/solana-usdt-to-20220-4-historical-data', path='../datasets/psycon/solana-usdt-to-20220-4-historical-data', unzip=True)"
   ]
  }
 ],
 "metadata": {
  "kernelspec": {
   "display_name": "Python 3 (ipykernel)",
   "language": "python",
   "name": "python3"
  },
  "language_info": {
   "codemirror_mode": {
    "name": "ipython",
    "version": 3
   },
   "file_extension": ".py",
   "mimetype": "text/x-python",
   "name": "python",
   "nbconvert_exporter": "python",
   "pygments_lexer": "ipython3",
   "version": "3.9.10"
  }
 },
 "nbformat": 4,
 "nbformat_minor": 5
}
