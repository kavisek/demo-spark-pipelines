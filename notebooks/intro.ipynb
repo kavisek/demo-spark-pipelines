{
 "cells": [
  {
   "cell_type": "markdown",
   "metadata": {},
   "source": [
    "### This example was created in Zepline"
   ]
  },
  {
   "cell_type": "code",
   "execution_count": 44,
   "metadata": {},
   "outputs": [],
   "source": [
    "from pyspark.sql import SparkSession\n",
    "\n",
    "\n",
    "class SparkJob:\n",
    "    \n",
    "    def __init__(self):\n",
    "        self.spark = (SparkSession \\\n",
    "            .builder \\\n",
    "            .appName(\"Python Spark SQL basic example\") \\\n",
    "            .config(\"spark.some.config.option\", \"some-value\") \\\n",
    "            .getOrCreate()\n",
    "            )\n",
    "        self.input_directory = \"datasets\"\n",
    "\n",
    "    def extract_timeseries(self):\n",
    "        # Read in dataframe\n",
    "        df = self.spark.read.option(\"header\",True).csv(f\"../{self.input_directory}/sample_dataframe/sample_dataframe.csv\")\n",
    "        df.printSchema()\n",
    "        return df\n",
    "    \n",
    "    def agg_date_select(self):\n",
    "        \"\"\"Select Date\"\"\"\n",
    "        df = self.extract_timeseries()\n",
    "        df.select('date').show(10)\n",
    "        return df\n",
    "        \n",
    "    def agg_date_count_orderded(self):\n",
    "        \"\"\"Group by date count\"\"\"\n",
    "        df = self.extract_timeseries()\n",
    "        df = df.groupby('date').count().orderBy(\"date\",\"count\")\n",
    "        df.show(truncate=False)\n",
    "        return df\n",
    "        \n",
    "    \n",
    "    def agg_date_count_orderded_fitler(self):\n",
    "        \"\"\"Filter Date Count\"\"\" \n",
    "        df = self.agg_date_count_orderded()\n",
    "        df = df.filter(\"count < 68\")\n",
    "        df.show(truncate=False)\n",
    "        return df\n",
    "    \n",
    "    \n",
    "    def write_agg_date_count_orderded_fitler(self):\n",
    "        \"\"\"Writing data to output directory\"\"\"\n",
    "        df = self.agg_date_count_orderded_fitler()\n",
    "        print('writing data to directory')\n",
    "        \n",
    "        df.write.mode('overwrite').format(\"csv\").save(f\"../{self.input_directory}/sample_dataframe_aggregation_csv\")\n",
    "        df.write.mode('overwrite').format(\"parquet\").save(f\"../{self.input_directory}/sample_dataframe_aggregation_parquet\")\n",
    "        print('completed.')\n",
    "        \n",
    "        \n",
    "        \n",
    "        \n",
    "        "
   ]
  },
  {
   "cell_type": "code",
   "execution_count": 45,
   "metadata": {},
   "outputs": [
    {
     "name": "stdout",
     "output_type": "stream",
     "text": [
      "root\n",
      " |-- a: string (nullable = true)\n",
      " |-- b: string (nullable = true)\n",
      " |-- datetime: string (nullable = true)\n",
      " |-- date: string (nullable = true)\n",
      "\n",
      "+----------+-----+\n",
      "|date      |count|\n",
      "+----------+-----+\n",
      "|2020-03-15|68   |\n",
      "|2020-03-16|32   |\n",
      "+----------+-----+\n",
      "\n",
      "+----------+-----+\n",
      "|date      |count|\n",
      "+----------+-----+\n",
      "|2020-03-16|32   |\n",
      "+----------+-----+\n",
      "\n",
      "writing data to directory\n",
      "completed.\n"
     ]
    }
   ],
   "source": [
    "job = SparkJob()\n",
    "job.write_agg_date_count_orderded_fitler()"
   ]
  },
  {
   "cell_type": "code",
   "execution_count": null,
   "metadata": {},
   "outputs": [],
   "source": []
  }
 ],
 "metadata": {
  "interpreter": {
   "hash": "1b74ec6fb81269781a1bd712bff70fe1aa806a4e3f31cc27fc42821ea4aced1c"
  },
  "kernelspec": {
   "display_name": "Python 3 (ipykernel)",
   "language": "python",
   "name": "python3"
  },
  "language_info": {
   "codemirror_mode": {
    "name": "ipython",
    "version": 3
   },
   "file_extension": ".py",
   "mimetype": "text/x-python",
   "name": "python",
   "nbconvert_exporter": "python",
   "pygments_lexer": "ipython3",
   "version": "3.9.10"
  }
 },
 "nbformat": 4,
 "nbformat_minor": 4
}
