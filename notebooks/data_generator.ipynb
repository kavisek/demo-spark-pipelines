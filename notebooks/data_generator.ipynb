{
 "cells": [
  {
   "cell_type": "code",
   "execution_count": 1,
   "metadata": {},
   "outputs": [],
   "source": [
    "import pandas as df \n",
    "import pandas as pd ;\n",
    "import numpy as np ;\n",
    "df = pd.DataFrame(data={'a':np.arange(0,10000), 'b':np.arange(0,10000)}, columns=['a','b']);\n",
    "df['datetime'] = pd.date_range(start='2020-03-15 7:00:00', periods=10000, freq=\"15min\");\n",
    "df['date'] = pd.date_range(start='2020-03-15 7:00:00', periods=10000, freq=\"15min\").strftime('%Y-%m-%d');\n",
    "\n",
    "df.to_csv('../data/sample_dataframe.csv', index=False);  # Export CSV"
   ]
  },
  {
   "cell_type": "code",
   "execution_count": null,
   "metadata": {},
   "outputs": [],
   "source": []
  }
 ],
 "metadata": {
  "interpreter": {
   "hash": "31f2aee4e71d21fbe5cf8b01ff0e069b9275f58929596ceb00d14d90e3e16cd6"
  },
  "kernelspec": {
   "display_name": "Python 3.9.2 64-bit",
   "language": "python",
   "name": "python3"
  },
  "language_info": {
   "codemirror_mode": {
    "name": "ipython",
    "version": 3
   },
   "file_extension": ".py",
   "mimetype": "text/x-python",
   "name": "python",
   "nbconvert_exporter": "python",
   "pygments_lexer": "ipython3",
   "version": "3.6.7"
  },
  "orig_nbformat": 4
 },
 "nbformat": 4,
 "nbformat_minor": 2
}
