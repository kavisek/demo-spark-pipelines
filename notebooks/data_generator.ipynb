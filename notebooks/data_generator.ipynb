{
 "cells": [
  {
   "cell_type": "code",
   "execution_count": 9,
   "metadata": {},
   "outputs": [],
   "source": [
    "# Time Series Dataset (Sample Dataset)\n",
    "import pandas as df \n",
    "import pandas as pd ;\n",
    "import numpy as np ;\n",
    "df = pd.DataFrame(data={'price':np.arange(0,100), 'cost':np.arange(0,100)}, columns=['a','b']);\n",
    "df['datetime'] = pd.date_range(start='2020-03-15 7:00:00', periods=100, freq=\"15min\");\n",
    "df['date'] = pd.date_range(start='2020-03-15 7:00:00', periods=100, freq=\"15min\").strftime('%Y-%m-%d');\n",
    "df.to_csv('../datasets/sample_dataframe/sample_dataframe.csv', index=False);  # Export CSV"
   ]
  },
  {
   "cell_type": "code",
   "execution_count": null,
   "metadata": {},
   "outputs": [],
   "source": [
    "# Time Series Dataset (Sample Dataset)\n",
    "import pandas as df \n",
    "import pandas as pd ;\n",
    "import numpy as np ;\n",
    "df = pd.DataFrame(data={'price':np.arange(0,100), 'cost':np.arange(0,100)}, columns=['a','b']);\n",
    "df['datetime'] = pd.date_range(start='2020-03-15 7:00:00', periods=100, freq=\"15min\");\n",
    "df['date'] = pd.date_range(start='2020-03-15 7:00:00', periods=100, freq=\"15min\").strftime('%Y-%m-%d');\n",
    "df.to_csv('../datasets/sample_dataframe/sample_dataframe.csv', index=False);  # Export CSV"
   ]
  }
 ],
 "metadata": {
  "interpreter": {
   "hash": "31f2aee4e71d21fbe5cf8b01ff0e069b9275f58929596ceb00d14d90e3e16cd6"
  },
  "kernelspec": {
   "display_name": "Python 3 (ipykernel)",
   "language": "python",
   "name": "python3"
  },
  "language_info": {
   "codemirror_mode": {
    "name": "ipython",
    "version": 3
   },
   "file_extension": ".py",
   "mimetype": "text/x-python",
   "name": "python",
   "nbconvert_exporter": "python",
   "pygments_lexer": "ipython3",
   "version": "3.9.10"
  }
 },
 "nbformat": 4,
 "nbformat_minor": 4
}
