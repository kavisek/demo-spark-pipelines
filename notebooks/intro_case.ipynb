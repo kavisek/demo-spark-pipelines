{
 "cells": [
  {
   "cell_type": "markdown",
   "metadata": {},
   "source": [
    "### This example was created in Zepline"
   ]
  },
  {
   "cell_type": "code",
   "execution_count": 1,
   "metadata": {},
   "outputs": [
    {
     "name": "stderr",
     "output_type": "stream",
     "text": [
      "UsageError: Line magic function `%pyspark` not found.\n"
     ]
    }
   ],
   "source": [
    "from pyspark.sql import SparkSession\n",
    "\n",
    "# Build Spark session\n",
    "spark = SparkSession \\\n",
    "    .builder \\\n",
    "    .appName(\"Python Spark SQL basic example\") \\\n",
    "    .config(\"spark.some.config.option\", \"some-value\") \\\n",
    "    .getOrCreate()\n",
    "\n",
    "# Read in dataframe\n",
    "df = spark.read.csv(\"gs://kavi-dataproc-data/data/sample_dataframe.csv\")\n",
    "df.printSchema()"
   ]
  },
  {
   "cell_type": "code",
   "execution_count": null,
   "metadata": {},
   "outputs": [],
   "source": [
    "# Selete date from dataframe\n",
    "df.select('date').show(10)\n",
    "\n",
    "\n",
    "# Complete basic groupby and show dataframe.\n",
    "df.groupby('date').count().show()\n",
    "\n",
    "\n",
    "# Complete basic groupby and show dataframe.\n",
    "df.groupby('date').count().orderBy(\"date\",\"count\").show(truncate=False)\n",
    "\n",
    "# Addinp a basic where clause.\n",
    "df = df.groupby('date').count().orderBy(\"date\",\"count\")\n",
    "df = df.filter(\"count < 96\")\n",
    "df.show(truncate=False)"
   ]
  },
  {
   "cell_type": "code",
   "execution_count": null,
   "metadata": {},
   "outputs": [],
   "source": [
    "# Writing the data out to multiple csv files. \n",
    "df.write.format(\"csv\").save(\"gs://kavi-dataproc-data/data/sample_dataframe_csv\")"
   ]
  }
 ],
 "metadata": {
  "interpreter": {
   "hash": "1b74ec6fb81269781a1bd712bff70fe1aa806a4e3f31cc27fc42821ea4aced1c"
  },
  "kernelspec": {
   "display_name": "Python 3.6.7 ('airflow')",
   "language": "python",
   "name": "python3"
  },
  "language_info": {
   "codemirror_mode": {
    "name": "ipython",
    "version": 3
   },
   "file_extension": ".py",
   "mimetype": "text/x-python",
   "name": "python",
   "nbconvert_exporter": "python",
   "pygments_lexer": "ipython3",
   "version": "3.6.7"
  },
  "orig_nbformat": 4
 },
 "nbformat": 4,
 "nbformat_minor": 2
}
